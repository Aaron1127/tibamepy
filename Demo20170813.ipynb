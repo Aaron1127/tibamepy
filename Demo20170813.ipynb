{
 "cells": [
  {
   "cell_type": "markdown",
   "metadata": {},
   "source": [
    "## 語音辨識"
   ]
  },
  {
   "cell_type": "markdown",
   "metadata": {},
   "source": [
    "### 安裝所須套件 SpeechRecognition\n",
    "- pip install SpeechRecognition\n",
    "- https://pypi.python.org/pypi/SpeechRecognition/"
   ]
  },
  {
   "cell_type": "code",
   "execution_count": 1,
   "metadata": {
    "collapsed": false
   },
   "outputs": [
    {
     "name": "stdout",
     "output_type": "stream",
     "text": [
      "Requirement already satisfied: SpeechRecognition in c:\\programdata\\anaconda3\\lib\\site-packages\n"
     ]
    }
   ],
   "source": [
    "! pip install SpeechRecognition"
   ]
  },
  {
   "cell_type": "markdown",
   "metadata": {},
   "source": [
    "### 安裝所須套件 pyaudio\n",
    "- pip install pyaudio\n",
    "- https://pypi.python.org/pypi/PyAudio"
   ]
  },
  {
   "cell_type": "code",
   "execution_count": 2,
   "metadata": {
    "collapsed": false
   },
   "outputs": [
    {
     "name": "stdout",
     "output_type": "stream",
     "text": [
      "Requirement already satisfied: pyaudio in c:\\programdata\\anaconda3\\lib\\site-packages\n"
     ]
    }
   ],
   "source": [
    "! pip install pyaudio"
   ]
  },
  {
   "cell_type": "code",
   "execution_count": 3,
   "metadata": {
    "collapsed": true
   },
   "outputs": [],
   "source": [
    "import speech_recognition\n",
    "r = speech_recognition.Recognizer()\n",
    "\n",
    "with speech_recognition.Microphone() as source:\n",
    "    r.adjust_for_ambient_noise(source)\n",
    "    audio = r.listen(source)"
   ]
  },
  {
   "cell_type": "code",
   "execution_count": 4,
   "metadata": {
    "collapsed": false
   },
   "outputs": [
    {
     "data": {
      "text/plain": [
       "'家早安你好今天來上課'"
      ]
     },
     "execution_count": 4,
     "metadata": {},
     "output_type": "execute_result"
    }
   ],
   "source": [
    "r.recognize_google(audio, language='zh-TW')"
   ]
  },
  {
   "cell_type": "markdown",
   "metadata": {},
   "source": [
    "## OCR 辨識"
   ]
  },
  {
   "cell_type": "markdown",
   "metadata": {},
   "source": [
    "### 安裝所須套件 pytesseract\n",
    "- pip install pytesseract\n",
    "- https://github.com/tesseract-ocr/tesseract/wiki/4.0-with-LSTM#400-alpha-for-windows\n",
    "- http://digi.bib.uni-mannheim.de/tesseract/tesseract-ocr-setup-4.00.00dev.exe"
   ]
  },
  {
   "cell_type": "code",
   "execution_count": null,
   "metadata": {
    "collapsed": true
   },
   "outputs": [],
   "source": [
    "! pip install pytesseract"
   ]
  },
  {
   "cell_type": "code",
   "execution_count": 1,
   "metadata": {
    "collapsed": true
   },
   "outputs": [],
   "source": [
    "import requests\n",
    "res = requests.get('https://statics.591.com.tw/tools/showPhone.php?info_data=%2FuYFMu9EqL5hHOKni2jZ%2FxxWP68&type=rLEFMu4XrrpgEw')\n",
    "with open('phone.jpg', 'wb') as f:\n",
    "    f.write(res.content)"
   ]
  },
  {
   "cell_type": "code",
   "execution_count": 2,
   "metadata": {
    "collapsed": false
   },
   "outputs": [
    {
     "data": {
      "image/png": "[encoded data removed]",
      "text/plain": [
       "<PIL.PngImagePlugin.PngImageFile image mode=P size=180x30 at 0x4C09048>"
      ]
     },
     "execution_count": 2,
     "metadata": {},
     "output_type": "execute_result"
    }
   ],
   "source": [
    "from PIL import Image\n",
    "Image.open('phone.jpg')"
   ]
  },
  {
   "cell_type": "code",
   "execution_count": 3,
   "metadata": {
    "collapsed": false
   },
   "outputs": [
    {
     "name": "stdout",
     "output_type": "stream",
     "text": [
      "0989-321-758\n"
     ]
    }
   ],
   "source": [
    "import PIL \n",
    "import pytesseract\n",
    "\n",
    "print(pytesseract.image_to_string(PIL.Image.open('phone.jpg')))"
   ]
  },
  {
   "cell_type": "markdown",
   "metadata": {},
   "source": [
    "## 將PDF轉成文字"
   ]
  },
  {
   "cell_type": "markdown",
   "metadata": {},
   "source": [
    "### 預先安裝套件 pdfminer3k\n",
    "- pip install pdfminer3k\n",
    "- https://pypi.python.org/pypi/pdfminer3k/\n",
    "- https://github.com/jaepil/pdfminer3k"
   ]
  },
  {
   "cell_type": "code",
   "execution_count": 4,
   "metadata": {
    "collapsed": false
   },
   "outputs": [
    {
     "name": "stdout",
     "output_type": "stream",
     "text": [
      "Requirement already satisfied: pdfminer3k in c:\\programdata\\anaconda3\\lib\\site-packages\n",
      "Requirement already satisfied: pytest>=2.0 in c:\\programdata\\anaconda3\\lib\\site-packages (from pdfminer3k)\n",
      "Requirement already satisfied: ply>=3.4 in c:\\programdata\\anaconda3\\lib\\site-packages (from pdfminer3k)\n",
      "Requirement already satisfied: py>=1.4.29 in c:\\programdata\\anaconda3\\lib\\site-packages (from pytest>=2.0->pdfminer3k)\n",
      "Requirement already satisfied: colorama in c:\\programdata\\anaconda3\\lib\\site-packages (from pytest>=2.0->pdfminer3k)\n"
     ]
    }
   ],
   "source": [
    "! pip install pdfminer3k"
   ]
  },
  {
   "cell_type": "markdown",
   "metadata": {},
   "source": [
    "### 範例檔案\n",
    "- http://gcis.nat.gov.tw/mainNew/matterAction.do?method=showFile&fileNo=t70013_p"
   ]
  },
  {
   "cell_type": "code",
   "execution_count": 10,
   "metadata": {
    "collapsed": false
   },
   "outputs": [],
   "source": [
    "from pdfminer.pdfparser import PDFParser, PDFDocument\n",
    "from pdfminer.pdfinterp import PDFResourceManager, PDFPageInterpreter\n",
    "from pdfminer.converter import PDFPageAggregator\n",
    "from pdfminer.layout import LAParams, LTTextBox, LTTextLine\n",
    "\n",
    "s = ''\n",
    "fp = open('data/t70013_p.pdf', 'rb')\n",
    "parser = PDFParser(fp)\n",
    "doc = PDFDocument()\n",
    "parser.set_document(doc)\n",
    "doc.set_parser(parser)\n",
    "doc.initialize('')\n",
    "rsrcmgr = PDFResourceManager()\n",
    "laparams = LAParams()\n",
    "device = PDFPageAggregator(rsrcmgr, laparams=laparams)\n",
    "interpreter = PDFPageInterpreter(rsrcmgr, device)\n",
    "# Process each page contained in the document.\n",
    "for page in doc.get_pages():\n",
    "    interpreter.process_page(page)\n",
    "    layout = device.get_result()\n",
    "    for lt_obj in layout:\n",
    "        print(lt_obj)\n",
    "        #pass\n",
    "        #if isinstance(lt_obj, LTTextBox) or isinstance(lt_obj, LTTextLine):\n",
    "        #    s = s + lt_obj.get_text()"
   ]
  },
  {
   "cell_type": "markdown",
   "metadata": {},
   "source": [
    "## 讀取半結構化資料與結構化資料"
   ]
  },
  {
   "cell_type": "code",
   "execution_count": 13,
   "metadata": {
    "collapsed": false
   },
   "outputs": [],
   "source": [
    "import pandas\n",
    "df = pandas.read_excel('data/eps.xlsx')\n",
    "#df.head()"
   ]
  },
  {
   "cell_type": "code",
   "execution_count": 14,
   "metadata": {
    "collapsed": false
   },
   "outputs": [
    {
     "data": {
      "text/html": [
       "<div>\n",
       "<table border=\"1\" class=\"dataframe\">\n",
       "  <thead>\n",
       "    <tr style=\"text-align: right;\">\n",
       "      <th></th>\n",
       "      <th>Date</th>\n",
       "      <th>Open</th>\n",
       "      <th>High</th>\n",
       "      <th>Low</th>\n",
       "      <th>Close</th>\n",
       "      <th>Volume</th>\n",
       "      <th>Adj Close</th>\n",
       "    </tr>\n",
       "  </thead>\n",
       "  <tbody>\n",
       "    <tr>\n",
       "      <th>0</th>\n",
       "      <td>2016-07-21</td>\n",
       "      <td>171.0</td>\n",
       "      <td>172.0</td>\n",
       "      <td>170.0</td>\n",
       "      <td>172.0</td>\n",
       "      <td>33130000</td>\n",
       "      <td>172.0</td>\n",
       "    </tr>\n",
       "    <tr>\n",
       "      <th>1</th>\n",
       "      <td>2016-07-20</td>\n",
       "      <td>170.0</td>\n",
       "      <td>170.5</td>\n",
       "      <td>169.0</td>\n",
       "      <td>170.0</td>\n",
       "      <td>38053000</td>\n",
       "      <td>170.0</td>\n",
       "    </tr>\n",
       "    <tr>\n",
       "      <th>2</th>\n",
       "      <td>2016-07-19</td>\n",
       "      <td>170.5</td>\n",
       "      <td>170.5</td>\n",
       "      <td>169.0</td>\n",
       "      <td>170.5</td>\n",
       "      <td>42456000</td>\n",
       "      <td>170.5</td>\n",
       "    </tr>\n",
       "    <tr>\n",
       "      <th>3</th>\n",
       "      <td>2016-07-18</td>\n",
       "      <td>168.0</td>\n",
       "      <td>170.0</td>\n",
       "      <td>168.0</td>\n",
       "      <td>169.5</td>\n",
       "      <td>24749000</td>\n",
       "      <td>169.5</td>\n",
       "    </tr>\n",
       "    <tr>\n",
       "      <th>4</th>\n",
       "      <td>2016-07-15</td>\n",
       "      <td>169.5</td>\n",
       "      <td>169.5</td>\n",
       "      <td>169.5</td>\n",
       "      <td>169.5</td>\n",
       "      <td>41000</td>\n",
       "      <td>169.5</td>\n",
       "    </tr>\n",
       "  </tbody>\n",
       "</table>\n",
       "</div>"
      ],
      "text/plain": [
       "         Date   Open   High    Low  Close    Volume  Adj Close\n",
       "0  2016-07-21  171.0  172.0  170.0  172.0  33130000      172.0\n",
       "1  2016-07-20  170.0  170.5  169.0  170.0  38053000      170.0\n",
       "2  2016-07-19  170.5  170.5  169.0  170.5  42456000      170.5\n",
       "3  2016-07-18  168.0  170.0  168.0  169.5  24749000      169.5\n",
       "4  2016-07-15  169.5  169.5  169.5  169.5     41000      169.5"
      ]
     },
     "execution_count": 14,
     "metadata": {},
     "output_type": "execute_result"
    }
   ],
   "source": [
    "import pandas\n",
    "df = pandas.read_csv('data/tw2330.csv')\n",
    "df.head()"
   ]
  },
  {
   "cell_type": "code",
   "execution_count": 15,
   "metadata": {
    "collapsed": false
   },
   "outputs": [
    {
     "data": {
      "text/html": [
       "<div>\n",
       "<table border=\"1\" class=\"dataframe\">\n",
       "  <thead>\n",
       "    <tr style=\"text-align: right;\">\n",
       "      <th></th>\n",
       "      <th>Number</th>\n",
       "      <th>Password</th>\n",
       "      <th>Birthday</th>\n",
       "      <th>Code</th>\n",
       "      <th>Profile</th>\n",
       "    </tr>\n",
       "  </thead>\n",
       "  <tbody>\n",
       "    <tr>\n",
       "      <th>0</th>\n",
       "      <td>15139400165</td>\n",
       "      <td>rR9mCcFLvp</td>\n",
       "      <td>1993-01-18</td>\n",
       "      <td>33116</td>\n",
       "      <td>https://m.facebook.com/olivia.baker.9237244</td>\n",
       "    </tr>\n",
       "    <tr>\n",
       "      <th>1</th>\n",
       "      <td>15139400165</td>\n",
       "      <td>R6JeUWN4Lv</td>\n",
       "      <td>1995-01-16</td>\n",
       "      <td>60274</td>\n",
       "      <td>https://m.facebook.com/joanne.walsh.731</td>\n",
       "    </tr>\n",
       "    <tr>\n",
       "      <th>2</th>\n",
       "      <td>15139400171</td>\n",
       "      <td>MC6gDTFbRP</td>\n",
       "      <td>1992-05-12</td>\n",
       "      <td>67672</td>\n",
       "      <td>https://m.facebook.com/home.php</td>\n",
       "    </tr>\n",
       "    <tr>\n",
       "      <th>3</th>\n",
       "      <td>15139400171</td>\n",
       "      <td>CZG4tM6Kfs</td>\n",
       "      <td>1994-10-09</td>\n",
       "      <td>68800</td>\n",
       "      <td>https://m.facebook.com/joanne.russell.144734</td>\n",
       "    </tr>\n",
       "    <tr>\n",
       "      <th>4</th>\n",
       "      <td>15139400171</td>\n",
       "      <td>WjEYSd6trR</td>\n",
       "      <td>1996-03-30</td>\n",
       "      <td>75977</td>\n",
       "      <td>https://m.facebook.com/donna.coleman.98499</td>\n",
       "    </tr>\n",
       "  </tbody>\n",
       "</table>\n",
       "</div>"
      ],
      "text/plain": [
       "        Number    Password    Birthday   Code  \\\n",
       "0  15139400165  rR9mCcFLvp  1993-01-18  33116   \n",
       "1  15139400165  R6JeUWN4Lv  1995-01-16  60274   \n",
       "2  15139400171  MC6gDTFbRP  1992-05-12  67672   \n",
       "3  15139400171  CZG4tM6Kfs  1994-10-09  68800   \n",
       "4  15139400171  WjEYSd6trR  1996-03-30  75977   \n",
       "\n",
       "                                        Profile  \n",
       "0   https://m.facebook.com/olivia.baker.9237244  \n",
       "1       https://m.facebook.com/joanne.walsh.731  \n",
       "2               https://m.facebook.com/home.php  \n",
       "3  https://m.facebook.com/joanne.russell.144734  \n",
       "4    https://m.facebook.com/donna.coleman.98499  "
      ]
     },
     "execution_count": 15,
     "metadata": {},
     "output_type": "execute_result"
    }
   ],
   "source": [
    "import pandas\n",
    "df = pandas.read_clipboard(sep= ':')\n",
    "df.head()"
   ]
  },
  {
   "cell_type": "code",
   "execution_count": 19,
   "metadata": {
    "collapsed": false
   },
   "outputs": [
    {
     "data": {
      "text/html": [
       "<div>\n",
       "<table border=\"1\" class=\"dataframe\">\n",
       "  <thead>\n",
       "    <tr style=\"text-align: right;\">\n",
       "      <th></th>\n",
       "      <th>Adj Close</th>\n",
       "      <th>Close</th>\n",
       "      <th>Date</th>\n",
       "      <th>High</th>\n",
       "      <th>Low</th>\n",
       "      <th>Open</th>\n",
       "      <th>Volume</th>\n",
       "    </tr>\n",
       "  </thead>\n",
       "  <tbody>\n",
       "    <tr>\n",
       "      <th>0</th>\n",
       "      <td>172.0</td>\n",
       "      <td>172.0</td>\n",
       "      <td>2016-07-21</td>\n",
       "      <td>172.0</td>\n",
       "      <td>170.0</td>\n",
       "      <td>171.0</td>\n",
       "      <td>33130000</td>\n",
       "    </tr>\n",
       "    <tr>\n",
       "      <th>1</th>\n",
       "      <td>170.0</td>\n",
       "      <td>170.0</td>\n",
       "      <td>2016-07-20</td>\n",
       "      <td>170.5</td>\n",
       "      <td>169.0</td>\n",
       "      <td>170.0</td>\n",
       "      <td>38053000</td>\n",
       "    </tr>\n",
       "    <tr>\n",
       "      <th>2</th>\n",
       "      <td>170.5</td>\n",
       "      <td>170.5</td>\n",
       "      <td>2016-07-19</td>\n",
       "      <td>170.5</td>\n",
       "      <td>169.0</td>\n",
       "      <td>170.5</td>\n",
       "      <td>42456000</td>\n",
       "    </tr>\n",
       "    <tr>\n",
       "      <th>3</th>\n",
       "      <td>169.5</td>\n",
       "      <td>169.5</td>\n",
       "      <td>2016-07-18</td>\n",
       "      <td>170.0</td>\n",
       "      <td>168.0</td>\n",
       "      <td>168.0</td>\n",
       "      <td>24749000</td>\n",
       "    </tr>\n",
       "    <tr>\n",
       "      <th>4</th>\n",
       "      <td>169.5</td>\n",
       "      <td>169.5</td>\n",
       "      <td>2016-07-15</td>\n",
       "      <td>169.5</td>\n",
       "      <td>169.5</td>\n",
       "      <td>169.5</td>\n",
       "      <td>41000</td>\n",
       "    </tr>\n",
       "  </tbody>\n",
       "</table>\n",
       "</div>"
      ],
      "text/plain": [
       "   Adj Close  Close       Date   High    Low   Open    Volume\n",
       "0      172.0  172.0 2016-07-21  172.0  170.0  171.0  33130000\n",
       "1      170.0  170.0 2016-07-20  170.5  169.0  170.0  38053000\n",
       "2      170.5  170.5 2016-07-19  170.5  169.0  170.5  42456000\n",
       "3      169.5  169.5 2016-07-18  170.0  168.0  168.0  24749000\n",
       "4      169.5  169.5 2016-07-15  169.5  169.5  169.5     41000"
      ]
     },
     "execution_count": 19,
     "metadata": {},
     "output_type": "execute_result"
    }
   ],
   "source": [
    "import pandas\n",
    "df = pandas.read_json('data/2330.json')\n",
    "df"
   ]
  },
  {
   "cell_type": "markdown",
   "metadata": {},
   "source": [
    "## 網路爬蟲"
   ]
  },
  {
   "cell_type": "code",
   "execution_count": 23,
   "metadata": {
    "collapsed": false
   },
   "outputs": [
    {
     "data": {
      "text/plain": [
       "<Response [200]>"
      ]
     },
     "execution_count": 23,
     "metadata": {},
     "output_type": "execute_result"
    }
   ],
   "source": [
    "import requests\n",
    "#print(dir(requests))\n",
    "res = requests.get('http://www.appledaily.com.tw/realtimenews/section/new/')\n",
    "res"
   ]
  },
  {
   "cell_type": "code",
   "execution_count": 25,
   "metadata": {
    "collapsed": false
   },
   "outputs": [],
   "source": [
    "#res.text"
   ]
  },
  {
   "cell_type": "code",
   "execution_count": 28,
   "metadata": {
    "collapsed": false
   },
   "outputs": [
    {
     "data": {
      "text/plain": [
       "<Response [200]>"
      ]
     },
     "execution_count": 28,
     "metadata": {},
     "output_type": "execute_result"
    }
   ],
   "source": [
    "import requests\n",
    "url = 'https://www.thsrc.com.tw/tw/TimeTable/SearchResult'\n",
    "payload = {\n",
    "  'StartStation':'977abb69-413a-4ccf-a109-0272c24fd490',\n",
    "  'EndStation':'60831846-f0e4-47f6-9b5b-46323ebdcef7',\n",
    "  'SearchDate':'2017/08/13',\n",
    "  'SearchTime':'12:30',\n",
    "  'SearchWay':'DepartureInMandarin'  \n",
    "}\n",
    "res = requests.post(url , data = payload) \n",
    "res"
   ]
  },
  {
   "cell_type": "markdown",
   "metadata": {},
   "source": [
    "## 台鐵時刻表\n",
    "- http://twtraffic.tra.gov.tw/twrail/EasySearch.aspx"
   ]
  },
  {
   "cell_type": "code",
   "execution_count": 29,
   "metadata": {
    "collapsed": false
   },
   "outputs": [
    {
     "data": {
      "text/plain": [
       "<Response [200]>"
      ]
     },
     "execution_count": 29,
     "metadata": {},
     "output_type": "execute_result"
    }
   ],
   "source": [
    "import requests\n",
    "res = requests.get('http://twtraffic.tra.gov.tw/twrail/SearchResult.aspx?searchtype=0&searchdate=2017/08/13&fromstation=1810&tostation=1008&trainclass=%271100%27,%271101%27,%271102%27,%271107%27,%271110%27,%271120%27&fromtime=0600&totime=2359')\n",
    "res"
   ]
  },
  {
   "cell_type": "markdown",
   "metadata": {},
   "source": [
    "## 台灣證交所\n",
    "- http://www.twse.com.tw/zh/page/trading/exchange/MI_INDEX.html"
   ]
  },
  {
   "cell_type": "code",
   "execution_count": 33,
   "metadata": {
    "collapsed": false
   },
   "outputs": [
    {
     "data": {
      "text/plain": [
       "<Response [200]>"
      ]
     },
     "execution_count": 33,
     "metadata": {},
     "output_type": "execute_result"
    }
   ],
   "source": [
    "import requests\n",
    "res = requests.get('http://www.twse.com.tw/exchangeReport/MI_INDEX?response=json&date=20170811&type=MS&_=1502602989870')\n",
    "res"
   ]
  },
  {
   "cell_type": "code",
   "execution_count": 36,
   "metadata": {
    "collapsed": false
   },
   "outputs": [
    {
     "data": {
      "text/plain": [
       "requests.models.Response"
      ]
     },
     "execution_count": 36,
     "metadata": {},
     "output_type": "execute_result"
    }
   ],
   "source": [
    "type(res)"
   ]
  },
  {
   "cell_type": "markdown",
   "metadata": {},
   "source": [
    "## 資料剖析 "
   ]
  },
  {
   "cell_type": "code",
   "execution_count": 31,
   "metadata": {
    "collapsed": true
   },
   "outputs": [],
   "source": [
    "from bs4 import BeautifulSoup\n",
    "html_sample = '''\n",
    "<html> \n",
    " <body> \n",
    " <h1 id=\"title\">Hello World</h1> \n",
    " <a href=\"#\" class=\"link\">This is link1</a> \n",
    " <a href=\"# link2\" class=\"link\">This is link2</a> \n",
    " </body> \n",
    "</html>\n",
    "'''\n",
    "soup = BeautifulSoup(html_sample, 'lxml') # html5lib, lxml, html.parser"
   ]
  },
  {
   "cell_type": "code",
   "execution_count": 32,
   "metadata": {
    "collapsed": false
   },
   "outputs": [
    {
     "data": {
      "text/plain": [
       "'\\n\\nHello World\\nThis is link1\\nThis is link2\\n\\n\\n'"
      ]
     },
     "execution_count": 32,
     "metadata": {},
     "output_type": "execute_result"
    }
   ],
   "source": [
    "soup.text"
   ]
  },
  {
   "cell_type": "code",
   "execution_count": 37,
   "metadata": {
    "collapsed": false
   },
   "outputs": [
    {
     "data": {
      "text/plain": [
       "bs4.BeautifulSoup"
      ]
     },
     "execution_count": 37,
     "metadata": {},
     "output_type": "execute_result"
    }
   ],
   "source": [
    "type(soup)"
   ]
  },
  {
   "cell_type": "code",
   "execution_count": 39,
   "metadata": {
    "collapsed": false
   },
   "outputs": [],
   "source": [
    "alink = soup.select('a')"
   ]
  },
  {
   "cell_type": "code",
   "execution_count": 40,
   "metadata": {
    "collapsed": false
   },
   "outputs": [
    {
     "data": {
      "text/plain": [
       "list"
      ]
     },
     "execution_count": 40,
     "metadata": {},
     "output_type": "execute_result"
    }
   ],
   "source": [
    "type(alink)"
   ]
  },
  {
   "cell_type": "code",
   "execution_count": 42,
   "metadata": {
    "collapsed": false
   },
   "outputs": [
    {
     "data": {
      "text/plain": [
       "<a class=\"link\" href=\"# link2\">This is link2</a>"
      ]
     },
     "execution_count": 42,
     "metadata": {},
     "output_type": "execute_result"
    }
   ],
   "source": [
    "alink[1]"
   ]
  },
  {
   "cell_type": "code",
   "execution_count": 46,
   "metadata": {
    "collapsed": false
   },
   "outputs": [
    {
     "name": "stdout",
     "output_type": "stream",
     "text": [
      "[<h1 id=\"title\">Hello World</h1>]\n",
      "<h1 id=\"title\">Hello World</h1>\n",
      "Hello World\n"
     ]
    }
   ],
   "source": [
    "print(soup.select('h1'))\n",
    "print(soup.select('h1')[0])\n",
    "print(soup.select('h1')[0].text)"
   ]
  },
  {
   "cell_type": "code",
   "execution_count": 47,
   "metadata": {
    "collapsed": false
   },
   "outputs": [
    {
     "data": {
      "text/plain": [
       "[<a class=\"link\" href=\"#\">This is link1</a>,\n",
       " <a class=\"link\" href=\"# link2\">This is link2</a>]"
      ]
     },
     "execution_count": 47,
     "metadata": {},
     "output_type": "execute_result"
    }
   ],
   "source": [
    "soup.select('.link')"
   ]
  },
  {
   "cell_type": "code",
   "execution_count": 49,
   "metadata": {
    "collapsed": false
   },
   "outputs": [
    {
     "data": {
      "text/plain": [
       "[<h1 id=\"title\">Hello World</h1>]"
      ]
     },
     "execution_count": 49,
     "metadata": {},
     "output_type": "execute_result"
    }
   ],
   "source": [
    "# id => #\n",
    "soup.select('#title')"
   ]
  },
  {
   "cell_type": "code",
   "execution_count": 51,
   "metadata": {
    "collapsed": false
   },
   "outputs": [
    {
     "data": {
      "text/plain": [
       "[<a class=\"link\" href=\"#\">This is link1</a>,\n",
       " <a class=\"link\" href=\"# link2\">This is link2</a>]"
      ]
     },
     "execution_count": 51,
     "metadata": {},
     "output_type": "execute_result"
    }
   ],
   "source": [
    "# class => .\n",
    "soup.select('.link')"
   ]
  },
  {
   "cell_type": "code",
   "execution_count": 53,
   "metadata": {
    "collapsed": false
   },
   "outputs": [
    {
     "data": {
      "text/plain": [
       "[<a class=\"link\" href=\"#\">This is link1</a>,\n",
       " <a class=\"link\" href=\"# link2\">This is link2</a>]"
      ]
     },
     "execution_count": 53,
     "metadata": {},
     "output_type": "execute_result"
    }
   ],
   "source": [
    "# body > a\n",
    "soup.select('body a')"
   ]
  },
  {
   "cell_type": "code",
   "execution_count": 54,
   "metadata": {
    "collapsed": false
   },
   "outputs": [
    {
     "data": {
      "text/plain": [
       "[<a class=\"link\" href=\"#\">This is link1</a>,\n",
       " <a class=\"link\" href=\"# link2\">This is link2</a>]"
      ]
     },
     "execution_count": 54,
     "metadata": {},
     "output_type": "execute_result"
    }
   ],
   "source": [
    "# tag = a, class = .link\n",
    "soup.select('a.link')"
   ]
  },
  {
   "cell_type": "code",
   "execution_count": 56,
   "metadata": {
    "collapsed": false
   },
   "outputs": [
    {
     "name": "stdout",
     "output_type": "stream",
     "text": [
      "This is link1\n",
      "This is link2\n"
     ]
    }
   ],
   "source": [
    "for link in soup.select('a.link'):\n",
    "    print(link.text)"
   ]
  },
  {
   "cell_type": "code",
   "execution_count": 59,
   "metadata": {
    "collapsed": false
   },
   "outputs": [
    {
     "data": {
      "text/plain": [
       "'Hello World'"
      ]
     },
     "execution_count": 59,
     "metadata": {},
     "output_type": "execute_result"
    }
   ],
   "source": [
    "soup.select('#title')[0].text"
   ]
  },
  {
   "cell_type": "code",
   "execution_count": 61,
   "metadata": {
    "collapsed": false
   },
   "outputs": [
    {
     "name": "stdout",
     "output_type": "stream",
     "text": [
      "#\n",
      "# link2\n"
     ]
    }
   ],
   "source": [
    "for link in soup.select('a.link'):\n",
    "    print(link['href'])"
   ]
  },
  {
   "cell_type": "code",
   "execution_count": 64,
   "metadata": {
    "collapsed": false
   },
   "outputs": [
    {
     "name": "stdout",
     "output_type": "stream",
     "text": [
      "施如齡\n",
      "孫光天\n",
      "林奇賢\n",
      "張智凱\n",
      "林豪鏘\n",
      "莊宗嚴\n",
      "李建億\n",
      "尹玫君\n",
      "林信志\n",
      "黃意雯\n",
      "蘇俊銘\n",
      "陳妍孜\n"
     ]
    }
   ],
   "source": [
    "import requests\n",
    "from bs4 import BeautifulSoup\n",
    "res = requests.get('http://ilt.nutn.edu.tw/faculty-professor/')\n",
    "soup = BeautifulSoup(res.text, 'html.parser')\n",
    "for p in soup.select('#page-wrap a'):\n",
    "    res2 = requests.get(p['href'])\n",
    "    soup2 = BeautifulSoup(res2.text ,'html.parser')\n",
    "    print(soup2.select('.entry-title')[0].text)"
   ]
  },
  {
   "cell_type": "markdown",
   "metadata": {},
   "source": [
    "## 蘋果日報爬蟲"
   ]
  },
  {
   "cell_type": "code",
   "execution_count": 65,
   "metadata": {
    "collapsed": false
   },
   "outputs": [
    {
     "data": {
      "text/plain": [
       "<Response [200]>"
      ]
     },
     "execution_count": 65,
     "metadata": {},
     "output_type": "execute_result"
    }
   ],
   "source": [
    "import requests\n",
    "res = requests.get('http://www.appledaily.com.tw/realtimenews/section/new/')\n",
    "res"
   ]
  },
  {
   "cell_type": "code",
   "execution_count": 67,
   "metadata": {
    "collapsed": false
   },
   "outputs": [],
   "source": [
    "from bs4 import BeautifulSoup\n",
    "soup = BeautifulSoup(res.text, 'lxml')\n",
    "news = soup.select('.rtddt a')"
   ]
  },
  {
   "cell_type": "code",
   "execution_count": 74,
   "metadata": {
    "collapsed": false
   },
   "outputs": [
    {
     "data": {
      "text/plain": [
       "<a href=\"/realtimenews/article/international/20170813/1181417/甘肅風景區暴雨成洪流　轎車被沖走296遊客受困\" target=\"_blank\">\n",
       "<time>14:56</time>\n",
       "<h2>國際</h2>\n",
       "<h1><font color=\"#383c40\">甘肅風景區暴雨成洪流　轎車被沖走296遊...(0)</font></h1>\n",
       "</a>"
      ]
     },
     "execution_count": 74,
     "metadata": {},
     "output_type": "execute_result"
    }
   ],
   "source": [
    "news[0]"
   ]
  },
  {
   "cell_type": "code",
   "execution_count": 79,
   "metadata": {
    "collapsed": false
   },
   "outputs": [
    {
     "name": "stdout",
     "output_type": "stream",
     "text": [
      "甘肅風景區暴雨成洪流　轎車被沖走296遊...(0)\n",
      "國際\n",
      "14:56\n",
      "/realtimenews/article/international/20170813/1181417/甘肅風景區暴雨成洪流　轎車被沖走296遊客受困\n"
     ]
    }
   ],
   "source": [
    "print(news[0].select('h1')[0].text)\n",
    "print(news[0].select('h2')[0].text)\n",
    "print(news[0].select('time')[0].text)\n",
    "print(news[0]['href'])"
   ]
  },
  {
   "cell_type": "code",
   "execution_count": 82,
   "metadata": {
    "collapsed": false
   },
   "outputs": [
    {
     "name": "stdout",
     "output_type": "stream",
     "text": [
      "國際 14:56 甘肅風景區暴雨成洪流　轎車被沖走296遊...(0) http://www.appledaily.com.tw/realtimenews/article/international/20170813/1181417/甘肅風景區暴雨成洪流　轎車被沖走296遊客受困\n",
      "社會 12:42 反焚化爐　3千線西鄉民扶老攜幼抗議(2083) http://www.appledaily.com.tw/realtimenews/article/local/20170813/1181322/反焚化爐　3千線西鄉民扶老攜幼抗議\n",
      "娛樂 14:54 豬哥亮紀念秀今晚墓仔埔開唱　掀不為人知內...(0) http://www.appledaily.com.tw/realtimenews/article/entertainment/20170813/1181326/豬哥亮紀念秀今晚墓仔埔開唱　掀不為人知內幕...\n",
      "財經 14:52 【眉角片】300萬口頭offer正常嗎？...(23573) http://www.appledaily.com.tw/realtimenews/article/finance/20170813/1181292/【眉角片】300萬口頭offer正常嗎？　專家這樣說\n",
      "體育 14:51 簽百家樂欠百萬　張誌家驚爆離婚失蹤躲債(0) http://www.appledaily.com.tw/realtimenews/article/sports/20170813/1181389/簽百家樂欠百萬　張誌家驚爆離婚失蹤躲債\n",
      "生活 14:51 她用這招收納發票　網友跪：實用又聰明！(0) http://www.appledaily.com.tw/realtimenews/article/life/20170813/1181426/她用這招收納發票　網友跪：實用又聰明！\n",
      "社會 14:50 LINE揪團參加少女性愛趴　警逮4嫖客送...(7659) http://www.appledaily.com.tw/realtimenews/article/local/20170813/1181328/LINE揪團參加少女性愛趴　警逮4嫖客送辦\n",
      "國際 14:50 疑受中國警告　達賴喇嘛取消訪問波札那(0) http://www.appledaily.com.tw/realtimenews/article/international/20170813/1181433/疑受中國警告　達賴喇嘛取消訪問波札那\n",
      "國際 14:49 譴責白人優越主義　加州爆發示威癱瘓公路(0) http://www.appledaily.com.tw/realtimenews/article/international/20170813/1181429/譴責白人優越主義　加州爆發示威癱瘓公路\n",
      "社會 14:48 劍青檢改再提建言　一二審檢察官全面輪調(4) http://www.appledaily.com.tw/realtimenews/article/local/20170813/1181423/劍青檢改再提建言　一二審檢察官全面輪調\n",
      "社會 14:46 騎士載運鐵梯違規上路　穿梭車陣恐吃罰單(1) http://www.appledaily.com.tw/realtimenews/article/local/20170813/1181432/騎士載運鐵梯違規上路　穿梭車陣恐吃罰單\n",
      "生活 14:45 染髮男禮讓繳費　結果是她的夢魘開始(236) http://www.appledaily.com.tw/realtimenews/article/life/20170813/1181407/染髮男禮讓繳費　結果是她的夢魘開始\n",
      "生活 14:44 男子嘿咻後「小弟弟」染成白色　禍首竟是她(50788) http://www.appledaily.com.tw/realtimenews/article/life/20170813/1181151/男子嘿咻後「小弟弟」染成白色　禍首竟是她\n",
      "社會 14:35 好友相約飛澎湖　鞋襪藏毒被活逮(1142) http://www.appledaily.com.tw/realtimenews/article/local/20170813/1181369/好友相約飛澎湖　鞋襪藏毒被活逮\n",
      "社會 14:34 【有片】趁列車進站跳下台鐵月台　50歲男...(27075) http://www.appledaily.com.tw/realtimenews/article/local/20170813/1181357/【有片】趁列車進站跳下台鐵月台　50歲男子被撞命危送醫\n",
      "生活 14:34 潛客遭螺旋槳斷腿　送醫加護觀察中(528) http://www.appledaily.com.tw/realtimenews/article/life/20170813/1181386/潛客遭螺旋槳斷腿　送醫加護觀察中\n",
      "娛樂 14:34 林隆璇copy周董模式　要兒寫出百首歌才...(354) http://www.appledaily.com.tw/realtimenews/article/entertainment/20170813/1181408/林隆璇copy周董模式　要兒寫出百首歌才幫發片\n",
      "國際 14:30 印度土石流沖走兩輛巴士　逾50乘客凶多吉...(278) http://www.appledaily.com.tw/realtimenews/article/international/20170813/1181422/印度土石流沖走兩輛巴士　逾50乘客凶多吉少\n",
      "生活 14:30 因應世大運　北市文獻館推台北運動史特展(41) http://www.appledaily.com.tw/realtimenews/article/life/20170813/1181428/因應世大運　北市文獻館推台北運動史特展\n",
      "社會 14:29 【不良動畫】世大運本周開幕　北市警方查獲...(3857) http://www.appledaily.com.tw/realtimenews/article/local/20170813/1181304/【不良動畫】世大運本周開幕　北市警方查獲首件黃牛票\n",
      "地產 14:24 【福氣片】1間烘焙坊　讓老社區整個活起來(5618) http://www.appledaily.com.tw/realtimenews/article/property/20170813/1179483/【福氣片】1間烘焙坊　讓老社區整個活起來\n",
      "生活 14:24 今天各地高溫炎熱　台北再飆37.2℃高溫(917) http://www.appledaily.com.tw/realtimenews/article/life/20170813/1181338/今天各地高溫炎熱　台北再飆37.2℃高溫\n",
      "社會 14:19 男子百貨公司內全裸　化身「尿尿小童」(4597) http://www.appledaily.com.tw/realtimenews/article/local/20170813/1181413/男子百貨公司內全裸　化身「尿尿小童」\n",
      "生活 14:19 休息室飆破30度「熱到反胃」　微風台北車...(1041) http://www.appledaily.com.tw/realtimenews/article/life/20170813/1181421/休息室飆破30度「熱到反胃」　微風台北車站：改善中　\n",
      "娛樂 14:18 【洋蔥片】齊秦樂手墜台喪命12年　胞兄淚...(124549) http://www.appledaily.com.tw/realtimenews/article/entertainment/20170813/1179881/【洋蔥片】齊秦樂手墜台喪命12年　胞兄淚睡墳上孵金曲\n",
      "社會 14:18 騎士自摔滑車底　警消搶救送醫(540) http://www.appledaily.com.tw/realtimenews/article/local/20170813/1181414/騎士自摔滑車底　警消搶救送醫\n",
      "娛樂 14:15 公開認愛！ 李毓芬柯震東親密同框　共閃情...(84254) http://www.appledaily.com.tw/realtimenews/article/entertainment/20170813/1181278/公開認愛！李毓芬柯震東親密同框　共閃情侶手勢\n",
      "財經 14:14 享高息又兼顧投資機會　台幣階梯式定存熱(617) http://www.appledaily.com.tw/realtimenews/article/finance/20170813/1181232/享高息又兼顧投資機會　台幣階梯式定存熱\n",
      "國際 14:14 日本「四季島」豪華寢台列車　首傳撞死人(737) http://www.appledaily.com.tw/realtimenews/article/international/20170813/1181420/日本「四季島」豪華寢台列車　首傳撞死人\n",
      "體育 14:09 【有片】國王藍道夫「麻」煩大了　最重將遭...(11411) http://www.appledaily.com.tw/realtimenews/article/sports/20170813/1181318/【有片】國王藍道夫「麻」煩大了　最重將遭球監或永不錄用\n"
     ]
    }
   ],
   "source": [
    "domain = 'http://www.appledaily.com.tw'\n",
    "for rec in soup.select('.rtddt a'):\n",
    "    title    = rec.select('h1')[0].text\n",
    "    category = rec.select('h2')[0].text\n",
    "    dt       = rec.select('time')[0].text\n",
    "    link     = domain + rec['href']\n",
    "    print(category, dt, title, link)"
   ]
  },
  {
   "cell_type": "code",
   "execution_count": 83,
   "metadata": {
    "collapsed": true
   },
   "outputs": [],
   "source": [
    "domain = 'http://www.appledaily.com.tw'\n",
    "newsary = []\n",
    "for rec in soup.select('.rtddt a'):\n",
    "    dic      = {}\n",
    "    dic['title']    = rec.select('h1')[0].text\n",
    "    dic['category ']= rec.select('h2')[0].text\n",
    "    dic['dt']       = rec.select('time')[0].text\n",
    "    dic['link']     = domain + rec['href']\n",
    "    newsary.append(dic)\n"
   ]
  },
  {
   "cell_type": "code",
   "execution_count": 85,
   "metadata": {
    "collapsed": false,
    "scrolled": true
   },
   "outputs": [
    {
     "data": {
      "text/html": [
       "<div>\n",
       "<table border=\"1\" class=\"dataframe\">\n",
       "  <thead>\n",
       "    <tr style=\"text-align: right;\">\n",
       "      <th></th>\n",
       "      <th>category</th>\n",
       "      <th>dt</th>\n",
       "      <th>link</th>\n",
       "      <th>title</th>\n",
       "    </tr>\n",
       "  </thead>\n",
       "  <tbody>\n",
       "    <tr>\n",
       "      <th>0</th>\n",
       "      <td>國際</td>\n",
       "      <td>14:56</td>\n",
       "      <td>http://www.appledaily.com.tw/realtimenews/arti...</td>\n",
       "      <td>甘肅風景區暴雨成洪流　轎車被沖走296遊...(0)</td>\n",
       "    </tr>\n",
       "    <tr>\n",
       "      <th>1</th>\n",
       "      <td>社會</td>\n",
       "      <td>12:42</td>\n",
       "      <td>http://www.appledaily.com.tw/realtimenews/arti...</td>\n",
       "      <td>反焚化爐　3千線西鄉民扶老攜幼抗議(2083)</td>\n",
       "    </tr>\n",
       "    <tr>\n",
       "      <th>2</th>\n",
       "      <td>娛樂</td>\n",
       "      <td>14:54</td>\n",
       "      <td>http://www.appledaily.com.tw/realtimenews/arti...</td>\n",
       "      <td>豬哥亮紀念秀今晚墓仔埔開唱　掀不為人知內...(0)</td>\n",
       "    </tr>\n",
       "    <tr>\n",
       "      <th>3</th>\n",
       "      <td>財經</td>\n",
       "      <td>14:52</td>\n",
       "      <td>http://www.appledaily.com.tw/realtimenews/arti...</td>\n",
       "      <td>【眉角片】300萬口頭offer正常嗎？...(23573)</td>\n",
       "    </tr>\n",
       "    <tr>\n",
       "      <th>4</th>\n",
       "      <td>體育</td>\n",
       "      <td>14:51</td>\n",
       "      <td>http://www.appledaily.com.tw/realtimenews/arti...</td>\n",
       "      <td>簽百家樂欠百萬　張誌家驚爆離婚失蹤躲債(0)</td>\n",
       "    </tr>\n",
       "  </tbody>\n",
       "</table>\n",
       "</div>"
      ],
      "text/plain": [
       "  category      dt                                               link  \\\n",
       "0        國際  14:56  http://www.appledaily.com.tw/realtimenews/arti...   \n",
       "1        社會  12:42  http://www.appledaily.com.tw/realtimenews/arti...   \n",
       "2        娛樂  14:54  http://www.appledaily.com.tw/realtimenews/arti...   \n",
       "3        財經  14:52  http://www.appledaily.com.tw/realtimenews/arti...   \n",
       "4        體育  14:51  http://www.appledaily.com.tw/realtimenews/arti...   \n",
       "\n",
       "                            title  \n",
       "0      甘肅風景區暴雨成洪流　轎車被沖走296遊...(0)  \n",
       "1         反焚化爐　3千線西鄉民扶老攜幼抗議(2083)  \n",
       "2      豬哥亮紀念秀今晚墓仔埔開唱　掀不為人知內...(0)  \n",
       "3  【眉角片】300萬口頭offer正常嗎？...(23573)  \n",
       "4          簽百家樂欠百萬　張誌家驚爆離婚失蹤躲債(0)  "
      ]
     },
     "execution_count": 85,
     "metadata": {},
     "output_type": "execute_result"
    }
   ],
   "source": [
    "import pandas\n",
    "df = pandas.DataFrame(newsary)\n",
    "df.head()"
   ]
  },
  {
   "cell_type": "code",
   "execution_count": 86,
   "metadata": {
    "collapsed": true
   },
   "outputs": [],
   "source": [
    "df.to_excel('news.xlsx')"
   ]
  }
 ],
 "metadata": {
  "kernelspec": {
   "display_name": "Python 3",
   "language": "python",
   "name": "python3"
  },
  "language_info": {
   "codemirror_mode": {
    "name": "ipython",
    "version": 3
   },
   "file_extension": ".py",
   "mimetype": "text/x-python",
   "name": "python",
   "nbconvert_exporter": "python",
   "pygments_lexer": "ipython3",
   "version": "3.6.0"
  }
 },
 "nbformat": 4,
 "nbformat_minor": 2
}
